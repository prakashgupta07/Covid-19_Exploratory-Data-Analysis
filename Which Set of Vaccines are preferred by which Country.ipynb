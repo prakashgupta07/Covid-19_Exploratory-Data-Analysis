{
 "cells": [
  {
   "cell_type": "code",
   "execution_count": 1,
   "id": "c2a6cae8",
   "metadata": {},
   "outputs": [],
   "source": [
    "import numpy as np\n",
    "import pandas as pd\n",
    "import matplotlib.pyplot as plt\n",
    "import seaborn as sns\n",
    "%matplotlib inline\n",
    "import datetime as dt"
   ]
  },
  {
   "cell_type": "code",
   "execution_count": 2,
   "id": "4905e639",
   "metadata": {},
   "outputs": [],
   "source": [
    "Vaccinations=pd.read_csv(\"D:\\\\GitHub\\\\Covid-19_Exploratory-Data-Analysis\\\\00.Resources\\\\Vaccinations_Dataset\\\\country_vaccinations.csv\")"
   ]
  },
  {
   "cell_type": "code",
   "execution_count": 3,
   "id": "29490cc3",
   "metadata": {},
   "outputs": [],
   "source": [
    "Vaccinations['total_vaccinations'].fillna(0,inplace=True)\n",
    "Vaccinations['people_vaccinated' ].fillna(0,inplace=True)                   \n",
    "Vaccinations['people_fully_vaccinated'].fillna(0,inplace=True)             \n",
    "Vaccinations['daily_vaccinations_raw' ].fillna(0,inplace=True)              \n",
    "Vaccinations['daily_vaccinations'].fillna(0,inplace=True)                    \n",
    "Vaccinations['total_vaccinations_per_hundred'].fillna(0,inplace=True)       \n",
    "Vaccinations['people_vaccinated_per_hundred' ].fillna(0,inplace=True)       \n",
    "Vaccinations['people_fully_vaccinated_per_hundred'].fillna(0,inplace=True) \n",
    "Vaccinations['daily_vaccinations_per_million'].fillna(0,inplace=True)"
   ]
  },
  {
   "cell_type": "code",
   "execution_count": 22,
   "id": "18810434",
   "metadata": {
    "scrolled": true
   },
   "outputs": [],
   "source": [
    "data=Vaccinations.groupby(\"country\")['vaccines'].unique()"
   ]
  },
  {
   "cell_type": "markdown",
   "id": "f647e5d8",
   "metadata": {},
   "source": [
    "## [ 4.6 Which Set of Vaccines are preferred by which Country?](#section406)"
   ]
  },
  {
   "cell_type": "code",
   "execution_count": 23,
   "id": "b98a4645",
   "metadata": {
    "scrolled": false
   },
   "outputs": [
    {
     "data": {
      "text/html": [
       "<div>\n",
       "<style scoped>\n",
       "    .dataframe tbody tr th:only-of-type {\n",
       "        vertical-align: middle;\n",
       "    }\n",
       "\n",
       "    .dataframe tbody tr th {\n",
       "        vertical-align: top;\n",
       "    }\n",
       "\n",
       "    .dataframe thead th {\n",
       "        text-align: right;\n",
       "    }\n",
       "</style>\n",
       "<table border=\"1\" class=\"dataframe\">\n",
       "  <thead>\n",
       "    <tr style=\"text-align: right;\">\n",
       "      <th></th>\n",
       "      <th>country</th>\n",
       "      <th>vaccines</th>\n",
       "    </tr>\n",
       "  </thead>\n",
       "  <tbody>\n",
       "    <tr>\n",
       "      <th>0</th>\n",
       "      <td>Afghanistan</td>\n",
       "      <td>[Johnson&amp;Johnson, Oxford/AstraZeneca, Pfizer/B...</td>\n",
       "    </tr>\n",
       "    <tr>\n",
       "      <th>1</th>\n",
       "      <td>Albania</td>\n",
       "      <td>[Oxford/AstraZeneca, Pfizer/BioNTech, Sinovac,...</td>\n",
       "    </tr>\n",
       "    <tr>\n",
       "      <th>2</th>\n",
       "      <td>Algeria</td>\n",
       "      <td>[Oxford/AstraZeneca, Sinopharm/Beijing, Sinova...</td>\n",
       "    </tr>\n",
       "    <tr>\n",
       "      <th>3</th>\n",
       "      <td>Andorra</td>\n",
       "      <td>[Moderna, Oxford/AstraZeneca, Pfizer/BioNTech]</td>\n",
       "    </tr>\n",
       "    <tr>\n",
       "      <th>4</th>\n",
       "      <td>Angola</td>\n",
       "      <td>[Oxford/AstraZeneca]</td>\n",
       "    </tr>\n",
       "    <tr>\n",
       "      <th>...</th>\n",
       "      <td>...</td>\n",
       "      <td>...</td>\n",
       "    </tr>\n",
       "    <tr>\n",
       "      <th>218</th>\n",
       "      <td>Wales</td>\n",
       "      <td>[Moderna, Oxford/AstraZeneca, Pfizer/BioNTech]</td>\n",
       "    </tr>\n",
       "    <tr>\n",
       "      <th>219</th>\n",
       "      <td>Wallis and Futuna</td>\n",
       "      <td>[Moderna]</td>\n",
       "    </tr>\n",
       "    <tr>\n",
       "      <th>220</th>\n",
       "      <td>Yemen</td>\n",
       "      <td>[Johnson&amp;Johnson, Oxford/AstraZeneca, Sinovac]</td>\n",
       "    </tr>\n",
       "    <tr>\n",
       "      <th>221</th>\n",
       "      <td>Zambia</td>\n",
       "      <td>[Johnson&amp;Johnson, Oxford/AstraZeneca, Sinophar...</td>\n",
       "    </tr>\n",
       "    <tr>\n",
       "      <th>222</th>\n",
       "      <td>Zimbabwe</td>\n",
       "      <td>[Oxford/AstraZeneca, Sinopharm/Beijing, Sinova...</td>\n",
       "    </tr>\n",
       "  </tbody>\n",
       "</table>\n",
       "<p>223 rows × 2 columns</p>\n",
       "</div>"
      ],
      "text/plain": [
       "               country                                           vaccines\n",
       "0          Afghanistan  [Johnson&Johnson, Oxford/AstraZeneca, Pfizer/B...\n",
       "1              Albania  [Oxford/AstraZeneca, Pfizer/BioNTech, Sinovac,...\n",
       "2              Algeria  [Oxford/AstraZeneca, Sinopharm/Beijing, Sinova...\n",
       "3              Andorra     [Moderna, Oxford/AstraZeneca, Pfizer/BioNTech]\n",
       "4               Angola                               [Oxford/AstraZeneca]\n",
       "..                 ...                                                ...\n",
       "218              Wales     [Moderna, Oxford/AstraZeneca, Pfizer/BioNTech]\n",
       "219  Wallis and Futuna                                          [Moderna]\n",
       "220              Yemen     [Johnson&Johnson, Oxford/AstraZeneca, Sinovac]\n",
       "221             Zambia  [Johnson&Johnson, Oxford/AstraZeneca, Sinophar...\n",
       "222           Zimbabwe  [Oxford/AstraZeneca, Sinopharm/Beijing, Sinova...\n",
       "\n",
       "[223 rows x 2 columns]"
      ]
     },
     "execution_count": 23,
     "metadata": {},
     "output_type": "execute_result"
    }
   ],
   "source": [
    "pd.DataFrame(data).reset_index()"
   ]
  },
  {
   "cell_type": "code",
   "execution_count": null,
   "id": "8945b854",
   "metadata": {},
   "outputs": [],
   "source": []
  },
  {
   "cell_type": "code",
   "execution_count": null,
   "id": "2dc2f863",
   "metadata": {},
   "outputs": [],
   "source": []
  }
 ],
 "metadata": {
  "kernelspec": {
   "display_name": "Python 3 (ipykernel)",
   "language": "python",
   "name": "python3"
  },
  "language_info": {
   "codemirror_mode": {
    "name": "ipython",
    "version": 3
   },
   "file_extension": ".py",
   "mimetype": "text/x-python",
   "name": "python",
   "nbconvert_exporter": "python",
   "pygments_lexer": "ipython3",
   "version": "3.9.13"
  }
 },
 "nbformat": 4,
 "nbformat_minor": 5
}
